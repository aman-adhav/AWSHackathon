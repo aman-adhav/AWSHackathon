{
 "cells": [
  {
   "cell_type": "markdown",
   "metadata": {},
   "source": [
    "## Imports"
   ]
  },
  {
   "cell_type": "code",
   "execution_count": 1,
   "metadata": {},
   "outputs": [],
   "source": [
    "import sagemaker as sage\n",
    "import os\n",
    "import boto3\n",
    "from sagemaker import get_execution_role\n",
    "from sagemaker import transformer\n",
    "from sagemaker import model\n",
    "\n",
    "role = get_execution_role()"
   ]
  },
  {
   "cell_type": "markdown",
   "metadata": {},
   "source": [
    "## Create the session\n",
    "\n",
    "The session remembers our connection parameters to Amazon SageMaker. We'll use it to perform all of our SageMaker operations."
   ]
  },
  {
   "cell_type": "code",
   "execution_count": 2,
   "metadata": {},
   "outputs": [],
   "source": [
    "sess = sage.Session()\n",
    "\n",
    "account = sess.boto_session.client('sts').get_caller_identity()['Account']\n",
    "region = sess.boto_session.region_name"
   ]
  },
  {
   "cell_type": "markdown",
   "metadata": {},
   "source": [
    "## Create Model\n",
    "\n",
    "Now we use the Bar/QR-code Scanner Model Package to create a model"
   ]
  },
  {
   "cell_type": "code",
   "execution_count": 3,
   "metadata": {},
   "outputs": [],
   "source": [
    "from src.model_package_arns import ModelPackageArnProvider"
   ]
  },
  {
   "cell_type": "code",
   "execution_count": 8,
   "metadata": {},
   "outputs": [
    {
     "name": "stdout",
     "output_type": "stream",
     "text": [
      "arn:aws:sagemaker:us-east-2:057799348421:model-package/bar-qr-code-reader-1571413449-a35a47dda86b16474ecd69ff9f20b46f\n"
     ]
    }
   ],
   "source": [
    "from sagemaker import ModelPackage\n",
    "modelpackage_arn = ModelPackageArnProvider.get_model_package_arn(sess.boto_region_name)\n",
    "\n",
    "# Define predictor wrapper class\n",
    "def predict_wrapper(endpoint, session):\n",
    "    return sage.RealTimePredictor(endpoint, session, content_type='image/jpeg')\n",
    "\n",
    "# Create a deployable model\n",
    "model = ModelPackage(role=role,\n",
    "                                      model_package_arn = modelpackage_arn,\n",
    "                                      sagemaker_session = sess,\n",
    "                                      predictor_cls = predict_wrapper)\n",
    "# ARN\n",
    "print(modelpackage_arn)"
   ]
  },
  {
   "cell_type": "markdown",
   "metadata": {},
   "source": [
    "### Live Inference Endpoint\n",
    "\n",
    "Now we demonstrate the creation of an endpoint for live inference"
   ]
  },
  {
   "cell_type": "code",
   "execution_count": 9,
   "metadata": {
    "collapsed": true
   },
   "outputs": [
    {
     "ename": "ClientError",
     "evalue": "An error occurred (ValidationException) when calling the CreateEndpoint operation: Cannot create already existing endpoint \"arn:aws:sagemaker:us-east-2:428712150059:endpoint/barcode-endpoint\".",
     "traceback": [
      "\u001b[0;31m---------------------------------------------------------------------------\u001b[0m",
      "\u001b[0;31mClientError\u001b[0m                               Traceback (most recent call last)",
      "\u001b[0;32m<ipython-input-9-d9e42e7b7b35>\u001b[0m in \u001b[0;36m<module>\u001b[0;34m()\u001b[0m\n\u001b[1;32m      1\u001b[0m \u001b[0;31m# Deploy the model\u001b[0m\u001b[0;34m\u001b[0m\u001b[0;34m\u001b[0m\u001b[0m\n\u001b[0;32m----> 2\u001b[0;31m \u001b[0mpredictor\u001b[0m \u001b[0;34m=\u001b[0m \u001b[0mmodel\u001b[0m\u001b[0;34m.\u001b[0m\u001b[0mdeploy\u001b[0m\u001b[0;34m(\u001b[0m\u001b[0;36m1\u001b[0m\u001b[0;34m,\u001b[0m \u001b[0;34m'ml.m4.xlarge'\u001b[0m\u001b[0;34m,\u001b[0m \u001b[0mendpoint_name\u001b[0m\u001b[0;34m=\u001b[0m\u001b[0;34m'barcode-endpoint'\u001b[0m\u001b[0;34m)\u001b[0m\u001b[0;34m\u001b[0m\u001b[0m\n\u001b[0m",
      "\u001b[0;32m~/anaconda3/envs/python3/lib/python3.6/site-packages/sagemaker/model.py\u001b[0m in \u001b[0;36mdeploy\u001b[0;34m(self, initial_instance_count, instance_type, accelerator_type, endpoint_name, update_endpoint, tags, kms_key, wait)\u001b[0m\n\u001b[1;32m    468\u001b[0m         \u001b[0;32melse\u001b[0m\u001b[0;34m:\u001b[0m\u001b[0;34m\u001b[0m\u001b[0m\n\u001b[1;32m    469\u001b[0m             self.sagemaker_session.endpoint_from_production_variants(\n\u001b[0;32m--> 470\u001b[0;31m                 \u001b[0mself\u001b[0m\u001b[0;34m.\u001b[0m\u001b[0mendpoint_name\u001b[0m\u001b[0;34m,\u001b[0m \u001b[0;34m[\u001b[0m\u001b[0mproduction_variant\u001b[0m\u001b[0;34m]\u001b[0m\u001b[0;34m,\u001b[0m \u001b[0mtags\u001b[0m\u001b[0;34m,\u001b[0m \u001b[0mkms_key\u001b[0m\u001b[0;34m,\u001b[0m \u001b[0mwait\u001b[0m\u001b[0;34m\u001b[0m\u001b[0m\n\u001b[0m\u001b[1;32m    471\u001b[0m             )\n\u001b[1;32m    472\u001b[0m \u001b[0;34m\u001b[0m\u001b[0m\n",
      "\u001b[0;32m~/anaconda3/envs/python3/lib/python3.6/site-packages/sagemaker/session.py\u001b[0m in \u001b[0;36mendpoint_from_production_variants\u001b[0;34m(self, name, production_variants, tags, kms_key, wait)\u001b[0m\n\u001b[1;32m   1363\u001b[0m \u001b[0;34m\u001b[0m\u001b[0m\n\u001b[1;32m   1364\u001b[0m             \u001b[0mself\u001b[0m\u001b[0;34m.\u001b[0m\u001b[0msagemaker_client\u001b[0m\u001b[0;34m.\u001b[0m\u001b[0mcreate_endpoint_config\u001b[0m\u001b[0;34m(\u001b[0m\u001b[0;34m**\u001b[0m\u001b[0mconfig_options\u001b[0m\u001b[0;34m)\u001b[0m\u001b[0;34m\u001b[0m\u001b[0m\n\u001b[0;32m-> 1365\u001b[0;31m         \u001b[0;32mreturn\u001b[0m \u001b[0mself\u001b[0m\u001b[0;34m.\u001b[0m\u001b[0mcreate_endpoint\u001b[0m\u001b[0;34m(\u001b[0m\u001b[0mendpoint_name\u001b[0m\u001b[0;34m=\u001b[0m\u001b[0mname\u001b[0m\u001b[0;34m,\u001b[0m \u001b[0mconfig_name\u001b[0m\u001b[0;34m=\u001b[0m\u001b[0mname\u001b[0m\u001b[0;34m,\u001b[0m \u001b[0mtags\u001b[0m\u001b[0;34m=\u001b[0m\u001b[0mtags\u001b[0m\u001b[0;34m,\u001b[0m \u001b[0mwait\u001b[0m\u001b[0;34m=\u001b[0m\u001b[0mwait\u001b[0m\u001b[0;34m)\u001b[0m\u001b[0;34m\u001b[0m\u001b[0m\n\u001b[0m\u001b[1;32m   1366\u001b[0m \u001b[0;34m\u001b[0m\u001b[0m\n\u001b[1;32m   1367\u001b[0m     \u001b[0;32mdef\u001b[0m \u001b[0mexpand_role\u001b[0m\u001b[0;34m(\u001b[0m\u001b[0mself\u001b[0m\u001b[0;34m,\u001b[0m \u001b[0mrole\u001b[0m\u001b[0;34m)\u001b[0m\u001b[0;34m:\u001b[0m\u001b[0;34m\u001b[0m\u001b[0m\n",
      "\u001b[0;32m~/anaconda3/envs/python3/lib/python3.6/site-packages/sagemaker/session.py\u001b[0m in \u001b[0;36mcreate_endpoint\u001b[0;34m(self, endpoint_name, config_name, tags, wait)\u001b[0m\n\u001b[1;32m    977\u001b[0m \u001b[0;34m\u001b[0m\u001b[0m\n\u001b[1;32m    978\u001b[0m         self.sagemaker_client.create_endpoint(\n\u001b[0;32m--> 979\u001b[0;31m             \u001b[0mEndpointName\u001b[0m\u001b[0;34m=\u001b[0m\u001b[0mendpoint_name\u001b[0m\u001b[0;34m,\u001b[0m \u001b[0mEndpointConfigName\u001b[0m\u001b[0;34m=\u001b[0m\u001b[0mconfig_name\u001b[0m\u001b[0;34m,\u001b[0m \u001b[0mTags\u001b[0m\u001b[0;34m=\u001b[0m\u001b[0mtags\u001b[0m\u001b[0;34m\u001b[0m\u001b[0m\n\u001b[0m\u001b[1;32m    980\u001b[0m         )\n\u001b[1;32m    981\u001b[0m         \u001b[0;32mif\u001b[0m \u001b[0mwait\u001b[0m\u001b[0;34m:\u001b[0m\u001b[0;34m\u001b[0m\u001b[0m\n",
      "\u001b[0;32m~/anaconda3/envs/python3/lib/python3.6/site-packages/botocore/client.py\u001b[0m in \u001b[0;36m_api_call\u001b[0;34m(self, *args, **kwargs)\u001b[0m\n\u001b[1;32m    355\u001b[0m                     \"%s() only accepts keyword arguments.\" % py_operation_name)\n\u001b[1;32m    356\u001b[0m             \u001b[0;31m# The \"self\" in this scope is referring to the BaseClient.\u001b[0m\u001b[0;34m\u001b[0m\u001b[0;34m\u001b[0m\u001b[0m\n\u001b[0;32m--> 357\u001b[0;31m             \u001b[0;32mreturn\u001b[0m \u001b[0mself\u001b[0m\u001b[0;34m.\u001b[0m\u001b[0m_make_api_call\u001b[0m\u001b[0;34m(\u001b[0m\u001b[0moperation_name\u001b[0m\u001b[0;34m,\u001b[0m \u001b[0mkwargs\u001b[0m\u001b[0;34m)\u001b[0m\u001b[0;34m\u001b[0m\u001b[0m\n\u001b[0m\u001b[1;32m    358\u001b[0m \u001b[0;34m\u001b[0m\u001b[0m\n\u001b[1;32m    359\u001b[0m         \u001b[0m_api_call\u001b[0m\u001b[0;34m.\u001b[0m\u001b[0m__name__\u001b[0m \u001b[0;34m=\u001b[0m \u001b[0mstr\u001b[0m\u001b[0;34m(\u001b[0m\u001b[0mpy_operation_name\u001b[0m\u001b[0;34m)\u001b[0m\u001b[0;34m\u001b[0m\u001b[0m\n",
      "\u001b[0;32m~/anaconda3/envs/python3/lib/python3.6/site-packages/botocore/client.py\u001b[0m in \u001b[0;36m_make_api_call\u001b[0;34m(self, operation_name, api_params)\u001b[0m\n\u001b[1;32m    659\u001b[0m             \u001b[0merror_code\u001b[0m \u001b[0;34m=\u001b[0m \u001b[0mparsed_response\u001b[0m\u001b[0;34m.\u001b[0m\u001b[0mget\u001b[0m\u001b[0;34m(\u001b[0m\u001b[0;34m\"Error\"\u001b[0m\u001b[0;34m,\u001b[0m \u001b[0;34m{\u001b[0m\u001b[0;34m}\u001b[0m\u001b[0;34m)\u001b[0m\u001b[0;34m.\u001b[0m\u001b[0mget\u001b[0m\u001b[0;34m(\u001b[0m\u001b[0;34m\"Code\"\u001b[0m\u001b[0;34m)\u001b[0m\u001b[0;34m\u001b[0m\u001b[0m\n\u001b[1;32m    660\u001b[0m             \u001b[0merror_class\u001b[0m \u001b[0;34m=\u001b[0m \u001b[0mself\u001b[0m\u001b[0;34m.\u001b[0m\u001b[0mexceptions\u001b[0m\u001b[0;34m.\u001b[0m\u001b[0mfrom_code\u001b[0m\u001b[0;34m(\u001b[0m\u001b[0merror_code\u001b[0m\u001b[0;34m)\u001b[0m\u001b[0;34m\u001b[0m\u001b[0m\n\u001b[0;32m--> 661\u001b[0;31m             \u001b[0;32mraise\u001b[0m \u001b[0merror_class\u001b[0m\u001b[0;34m(\u001b[0m\u001b[0mparsed_response\u001b[0m\u001b[0;34m,\u001b[0m \u001b[0moperation_name\u001b[0m\u001b[0;34m)\u001b[0m\u001b[0;34m\u001b[0m\u001b[0m\n\u001b[0m\u001b[1;32m    662\u001b[0m         \u001b[0;32melse\u001b[0m\u001b[0;34m:\u001b[0m\u001b[0;34m\u001b[0m\u001b[0m\n\u001b[1;32m    663\u001b[0m             \u001b[0;32mreturn\u001b[0m \u001b[0mparsed_response\u001b[0m\u001b[0;34m\u001b[0m\u001b[0m\n",
      "\u001b[0;31mClientError\u001b[0m: An error occurred (ValidationException) when calling the CreateEndpoint operation: Cannot create already existing endpoint \"arn:aws:sagemaker:us-east-2:428712150059:endpoint/barcode-endpoint\"."
     ],
     "output_type": "error"
    }
   ],
   "source": [
    "# Deploy the model\n",
    "predictor = model.deploy(1, 'ml.m4.xlarge', endpoint_name='barcode-endpoint')"
   ]
  },
  {
   "cell_type": "markdown",
   "metadata": {},
   "source": [
    "### Testing on a single file \n",
    "\n",
    "The model takes an image file (.jpg/.png) as input. We give the location of the sample input file and prepare it for payload. An example has been shown in the following code shell.\n",
    "\n",
    "We get the response for our request as a dictionary of Barcode Data and the Barcode Type associated with the barcode. In case of a QR code, the Barcode Type is returned as \"QR-code\"."
   ]
  },
  {
   "cell_type": "code",
   "execution_count": 6,
   "metadata": {},
   "outputs": [],
   "source": [
    "file_name = 'data/test_files/QRcode_example5.jpg'"
   ]
  },
  {
   "cell_type": "markdown",
   "metadata": {},
   "source": [
    "#### Preparing the input file for payload and viewing the response"
   ]
  },
  {
   "cell_type": "code",
   "execution_count": 7,
   "metadata": {},
   "outputs": [
    {
     "name": "stdout",
     "output_type": "stream",
     "text": [
      "{\"upi://pay?aid=uGICAgICAg_ziOw&pa=nishanthballal.9-1@okicici&pn=Nishanth%20Ballal\": \"QRCODE\"}\n"
     ]
    }
   ],
   "source": [
    "# Open the file and read the image into a bytearray.\n",
    "with open(file_name, \"rb\") as image:\n",
    "  b = bytearray(image.read())\n",
    "\n",
    "# Perform a prediction\n",
    "result = predictor.predict(b).decode('utf-8')\n",
    "\n",
    "# View the prediction\n",
    "print(result)"
   ]
  },
  {
   "cell_type": "markdown",
   "metadata": {},
   "source": [
    "## Batch Transform Job\n",
    "\n",
    "Now let's use the model built to run a batch inference job and verify it works."
   ]
  },
  {
   "cell_type": "markdown",
   "metadata": {},
   "source": [
    "### Batch Transform Input Preparation\n"
   ]
  },
  {
   "cell_type": "code",
   "execution_count": 10,
   "metadata": {},
   "outputs": [
    {
     "name": "stdout",
     "output_type": "stream",
     "text": [
      "Transform Data Location s3://sagemaker-us-east-2-428712150059/barcode/validation\n"
     ]
    }
   ],
   "source": [
    "bucket = sess.default_bucket()\n",
    "\n",
    "transform_input_prefix = \"barcode/validation\"\n",
    "TRANSFORM_WORKDIR = \"data/transform\" \n",
    "# upload data from local directory to bucket\n",
    "\n",
    "transform_input = sess.upload_data(TRANSFORM_WORKDIR, key_prefix=transform_input_prefix) \n",
    "\n",
    "print (\"Transform Data Location \" + transform_input)"
   ]
  },
  {
   "cell_type": "markdown",
   "metadata": {},
   "source": [
    "### Run Batch Transform\n",
    "\n",
    "Now that our batch transform input is setup, we run the transformation job next"
   ]
  },
  {
   "cell_type": "code",
   "execution_count": 12,
   "metadata": {},
   "outputs": [
    {
     "name": "stderr",
     "output_type": "stream",
     "text": [
      "Using already existing model: bar-qr-code-reader-1571413449-a35a47dda-2019-10-30-10-11-47-607\n"
     ]
    },
    {
     "name": "stdout",
     "output_type": "stream",
     "text": [
      "..................\n",
      "\u001b[31mStarting the inference server with 4 workers.\u001b[0m\n",
      "\u001b[31m[2019-10-30 10:18:26 +0000] [10] [INFO] Starting gunicorn 19.9.0\u001b[0m\n",
      "\u001b[31m[2019-10-30 10:18:26 +0000] [10] [INFO] Listening at: unix:/tmp/gunicorn.sock (10)\u001b[0m\n",
      "\u001b[31m[2019-10-30 10:18:26 +0000] [10] [INFO] Using worker: gevent\u001b[0m\n",
      "\u001b[31m[2019-10-30 10:18:26 +0000] [14] [INFO] Booting worker with pid: 14\u001b[0m\n",
      "\u001b[31m[2019-10-30 10:18:26 +0000] [15] [INFO] Booting worker with pid: 15\u001b[0m\n",
      "\u001b[31m[2019-10-30 10:18:26 +0000] [19] [INFO] Booting worker with pid: 19\u001b[0m\n",
      "\u001b[31m[2019-10-30 10:18:26 +0000] [20] [INFO] Booting worker with pid: 20\u001b[0m\n",
      "\u001b[31m169.254.255.130 - - [30/Oct/2019:10:18:39 +0000] \"GET /ping HTTP/1.1\" 200 1 \"-\" \"Go-http-client/1.1\"\u001b[0m\n",
      "\u001b[31m169.254.255.130 - - [30/Oct/2019:10:18:39 +0000] \"GET /execution-parameters HTTP/1.1\" 404 2 \"-\" \"Go-http-client/1.1\"\u001b[0m\n",
      "\u001b[31mStep 1\u001b[0m\n",
      "\u001b[31mStep 2\u001b[0m\n",
      "\u001b[31mStep3\u001b[0m\n",
      "\u001b[31mEndpoint invoked\u001b[0m\n",
      "\u001b[32m169.254.255.130 - - [30/Oct/2019:10:18:39 +0000] \"GET /ping HTTP/1.1\" 200 1 \"-\" \"Go-http-client/1.1\"\u001b[0m\n",
      "\u001b[32m169.254.255.130 - - [30/Oct/2019:10:18:39 +0000] \"GET /execution-parameters HTTP/1.1\" 404 2 \"-\" \"Go-http-client/1.1\"\u001b[0m\n",
      "\u001b[32mStep 1\u001b[0m\n",
      "\u001b[32mStep 2\u001b[0m\n",
      "\u001b[32mStep3\u001b[0m\n",
      "\u001b[32mEndpoint invoked\u001b[0m\n",
      "\u001b[31mBarcode Data and Barcode Type: \n",
      "\u001b[0m\n",
      "\u001b[31m{'{\"author\": \"Adrian\", \"site\": \"PyImageSearch\"}': 'QRCODE', 'https://www.pyimagesearch.com/': 'QRCODE', 'PyImageSearch': 'QRCODE', 'AdrianRosebrock': 'CODE128'}\u001b[0m\n",
      "\u001b[31m169.254.255.130 - - [30/Oct/2019:10:18:39 +0000] \"POST /invocations HTTP/1.1\" 200 168 \"-\" \"Go-http-client/1.1\"\u001b[0m\n",
      "\u001b[31mStep 1\u001b[0m\n",
      "\u001b[31mStep 2\u001b[0m\n",
      "\u001b[31mStep3\u001b[0m\n",
      "\u001b[31mEndpoint invoked\u001b[0m\n",
      "\u001b[31mBarcode Data and Barcode Type: \n",
      "\u001b[0m\n",
      "\u001b[31m{'14MF3IM01': 'CODE39'}\u001b[0m\n",
      "\u001b[31m169.254.255.130 - - [30/Oct/2019:10:18:39 +0000] \"POST /invocations HTTP/1.1\" 200 23 \"-\" \"Go-http-client/1.1\"\u001b[0m\n",
      "\u001b[31mStep 1\u001b[0m\n",
      "\u001b[31mStep 2\u001b[0m\n",
      "\u001b[31mStep3\u001b[0m\n",
      "\u001b[31mEndpoint invoked\u001b[0m\n",
      "\u001b[32mBarcode Data and Barcode Type: \n",
      "\u001b[0m\n",
      "\u001b[32m{'{\"author\": \"Adrian\", \"site\": \"PyImageSearch\"}': 'QRCODE', 'https://www.pyimagesearch.com/': 'QRCODE', 'PyImageSearch': 'QRCODE', 'AdrianRosebrock': 'CODE128'}\u001b[0m\n",
      "\u001b[32m169.254.255.130 - - [30/Oct/2019:10:18:39 +0000] \"POST /invocations HTTP/1.1\" 200 168 \"-\" \"Go-http-client/1.1\"\u001b[0m\n",
      "\u001b[32mStep 1\u001b[0m\n",
      "\u001b[32mStep 2\u001b[0m\n",
      "\u001b[32mStep3\u001b[0m\n",
      "\u001b[32mEndpoint invoked\u001b[0m\n",
      "\u001b[32mBarcode Data and Barcode Type: \n",
      "\u001b[0m\n",
      "\u001b[32m{'14MF3IM01': 'CODE39'}\u001b[0m\n",
      "\u001b[32m169.254.255.130 - - [30/Oct/2019:10:18:39 +0000] \"POST /invocations HTTP/1.1\" 200 23 \"-\" \"Go-http-client/1.1\"\u001b[0m\n",
      "\u001b[32mStep 1\u001b[0m\n",
      "\u001b[32mStep 2\u001b[0m\n",
      "\u001b[32mStep3\u001b[0m\n",
      "\u001b[32mEndpoint invoked\u001b[0m\n",
      "\u001b[31mBarcode Data and Barcode Type: \n",
      "\u001b[0m\n",
      "\u001b[31m{'upi://pay?aid=uGICAgICAg_ziOw&pa=nishanthballal.9-1@okicici&pn=Nishanth%20Ballal': 'QRCODE'}\u001b[0m\n",
      "\u001b[31m169.254.255.130 - - [30/Oct/2019:10:18:40 +0000] \"POST /invocations HTTP/1.1\" 200 94 \"-\" \"Go-http-client/1.1\"\u001b[0m\n",
      "\u001b[32mBarcode Data and Barcode Type: \n",
      "\u001b[0m\n",
      "\u001b[32m{'upi://pay?aid=uGICAgICAg_ziOw&pa=nishanthballal.9-1@okicici&pn=Nishanth%20Ballal': 'QRCODE'}\u001b[0m\n",
      "\u001b[32m169.254.255.130 - - [30/Oct/2019:10:18:40 +0000] \"POST /invocations HTTP/1.1\" 200 94 \"-\" \"Go-http-client/1.1\"\u001b[0m\n",
      "\u001b[33m2019-10-30T10:18:39.220:[sagemaker logs]: MaxConcurrentTransforms=1, MaxPayloadInMB=6, BatchStrategy=MULTI_RECORD\u001b[0m\n",
      "Batch Transform output saved to s3://sagemaker-us-east-2-428712150059/barcode/batch-transform-output\n"
     ]
    }
   ],
   "source": [
    "transformer = model.transformer(1, 'ml.m4.xlarge', \n",
    "                                output_path=\"s3://\"+bucket+\"/barcode/batch-transform-output\")\n",
    "transformer.transform(transform_input, content_type='image/jpeg')\n",
    "transformer.wait()\n",
    "\n",
    "print(\"Batch Transform output saved to \" + transformer.output_path)"
   ]
  },
  {
   "cell_type": "code",
   "execution_count": 14,
   "metadata": {},
   "outputs": [
    {
     "name": "stdout",
     "output_type": "stream",
     "text": [
      "QRcode_example5.jpg.out\n",
      "{\"upi://pay?aid=uGICAgICAg_ziOw&pa=nishanthballal.9-1@okicici&pn=Nishanth%20Ballal\": \"QRCODE\"}\n",
      "barcode_example.png.out\n",
      "{\"{\\\"author\\\": \\\"Adrian\\\", \\\"site\\\": \\\"PyImageSearch\\\"}\": \"QRCODE\", \"https://www.pyimagesearch.com/\": \"QRCODE\", \"PyImageSearch\": \"QRCODE\", \"AdrianRosebrock\": \"CODE128\"}\n",
      "barcode_example3.jpg.out\n",
      "{\"14MF3IM01\": \"CODE39\"}\n"
     ]
    }
   ],
   "source": [
    "# Print the outputs\n",
    "\n",
    "s3 = boto3.resource('s3')\n",
    "my_bucket = s3.Bucket(sess.default_bucket())\n",
    "\n",
    "for object_summary in my_bucket.objects.filter(Prefix=\"barcode/batch-transform-output\"+ \"/\"):\n",
    "   file_name = object_summary.key.split('/')[-1]\n",
    "   print(file_name)\n",
    "   s3.Bucket(sess.default_bucket()).download_file(\"barcode/\"+\"batch-transform-output\" +\"/\"+ file_name,  'batch_results')\n",
    "   with open('batch_results') as f:\n",
    "       results = f.readlines()  \n",
    "   \n",
    "   print(\"\".join(results))"
   ]
  },
  {
   "cell_type": "markdown",
   "metadata": {},
   "source": [
    "### Clean Up Endpoint"
   ]
  },
  {
   "cell_type": "code",
   "execution_count": 13,
   "metadata": {},
   "outputs": [],
   "source": [
    "predictor.delete_endpoint()"
   ]
  }
 ],
 "metadata": {
  "kernelspec": {
   "display_name": "conda_python3",
   "language": "python",
   "name": "conda_python3"
  },
  "language_info": {
   "codemirror_mode": {
    "name": "ipython",
    "version": 3
   },
   "file_extension": ".py",
   "mimetype": "text/x-python",
   "name": "python",
   "nbconvert_exporter": "python",
   "pygments_lexer": "ipython3",
   "version": "3.6.5"
  }
 },
 "nbformat": 4,
 "nbformat_minor": 2
}
